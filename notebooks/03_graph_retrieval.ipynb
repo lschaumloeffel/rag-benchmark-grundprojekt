{
 "cells": [
  {
   "metadata": {},
   "cell_type": "raw",
   "source": [
    "# 03 - Graph Retrieval mit Neo4j\n",
    "\n",
    "Implementierung des Neo4j-basierten Graph-Retrievals für das RAG-Benchmarking.\n",
    "\n",
    "## Ziele:\n",
    "- Neo4j-Datenbank aufsetzen\n",
    "- FAQ-Korpus als Knowledge Graph modellieren\n",
    "- Graph-basierte Retrieval-Funktion implementieren\n",
    "- Vergleich mit Vector Retrieval#%% md\n"
   ],
   "id": "ee76fd3b56e90c29"
  },
  {
   "metadata": {
    "ExecuteTime": {
     "end_time": "2025-08-10T18:09:24.699946Z",
     "start_time": "2025-08-10T18:09:18.344404Z"
    }
   },
   "cell_type": "code",
   "source": [
    "# Imports\n",
    "import json\n",
    "import pandas as pd\n",
    "from neo4j import GraphDatabase\n",
    "import spacy # add to poetry\n",
    "import re\n",
    "from collections import Counter\n",
    "import time\n",
    "import pickle\n"
   ],
   "id": "df168b67aac8ae3d",
   "outputs": [],
   "execution_count": 1
  },
  {
   "metadata": {},
   "cell_type": "markdown",
   "source": [
    "## Neo4j-Verbindung einrichten\n",
    "\n",
    "**Wichtig:** Es wird eine laufende Neo4j-Instanz benötigt.\n",
    "- Entweder lokal installiert (neo4j.com/download)\n",
    "- Oder Neo4j Desktop\n",
    "- Oder Docker: `docker run --name neo4j-rag --publish=7474:7474 --publish=7687:7687 --env NEO4J_AUTH=neo4j/password neo4j:latest`\n",
    "\n",
    "Standard-Credentials: neo4j/password"
   ],
   "id": "a535727ab2dcaa35"
  },
  {
   "metadata": {
    "ExecuteTime": {
     "end_time": "2025-08-10T18:09:24.981030Z",
     "start_time": "2025-08-10T18:09:24.874591Z"
    }
   },
   "cell_type": "code",
   "source": [
    "# Neo4j-Verbindung konfigurieren\n",
    "NEO4J_URI = \"bolt://localhost:7687\"\n",
    "NEO4J_USER = \"neo4j\"\n",
    "NEO4J_PASSWORD = \"password\"\n",
    "\n",
    "try:\n",
    "    driver = GraphDatabase.driver(NEO4J_URI, auth=(NEO4J_USER, NEO4J_PASSWORD))\n",
    "    # Test-Verbindung\n",
    "    with driver.session() as session:\n",
    "        result = session.run(\"RETURN 'Neo4j verbunden!' AS message\")\n",
    "        print(f\"{result.single()['message']}\")\n",
    "except Exception as e:\n",
    "    print(f\"Neo4j-Verbindung fehlgeschlagen: {e}\")\n",
    "    print(\"Starte Neo4j-Server oder ändere die Verbindungsparameter\")"
   ],
   "id": "9dbd4d7a1a362250",
   "outputs": [
    {
     "name": "stdout",
     "output_type": "stream",
     "text": [
      "Neo4j verbunden!\n"
     ]
    }
   ],
   "execution_count": 2
  },
  {
   "metadata": {},
   "cell_type": "markdown",
   "source": [
    "## Daten laden"
   ],
   "id": "f00f46ff22db8998"
  },
  {
   "metadata": {
    "ExecuteTime": {
     "end_time": "2025-08-10T18:09:25.008538Z",
     "start_time": "2025-08-10T18:09:25.000751Z"
    }
   },
   "cell_type": "code",
   "source": [
    "# FAQ-Korpus laden\n",
    "with open('../data/faq_korpus.json', 'r', encoding='utf-8') as f:\n",
    "    faq_documents = json.load(f)\n",
    "\n",
    "# Testfragen laden\n",
    "test_questions = pd.read_csv('../data/fragenliste.csv')\n",
    "\n",
    "print(f\"{len(faq_documents)} FAQ-Dokumente geladen\")\n",
    "print(f\"{len(test_questions)} Testfragen geladen\")"
   ],
   "id": "d179e76b4845e6ac",
   "outputs": [
    {
     "name": "stdout",
     "output_type": "stream",
     "text": [
      "15 FAQ-Dokumente geladen\n",
      "12 Testfragen geladen\n"
     ]
    }
   ],
   "execution_count": 3
  },
  {
   "metadata": {},
   "cell_type": "markdown",
   "source": [
    "## Spacy für Named Entity Recognition laden"
   ],
   "id": "e60bfcbbba122ca9"
  },
  {
   "metadata": {
    "ExecuteTime": {
     "end_time": "2025-08-10T18:13:53.140863Z",
     "start_time": "2025-08-10T18:13:51.931989Z"
    }
   },
   "cell_type": "code",
   "source": [
    "# Deutsches Spacy-Modell laden\n",
    "try:\n",
    "    nlp = spacy.load(\"de_core_news_sm\")\n",
    "    print(\"Deutsches Spacy-Modell geladen\")\n",
    "except OSError:\n",
    "    # Fallback auf englisches Modell\n",
    "    try:\n",
    "        nlp = spacy.load(\"en_core_web_sm\")\n",
    "        print(\"Englisches Spacy-Modell geladen (Fallback)\")\n",
    "    except OSError:\n",
    "        print(\"Kein Spacy-Modell gefunden. Installieren mit:\")\n",
    "        print(\"python -m spacy download de_core_news_sm\")\n",
    "        print(\"oder: python -m spacy download en_core_web_sm\")"
   ],
   "id": "778f79d0502e8baa",
   "outputs": [
    {
     "name": "stdout",
     "output_type": "stream",
     "text": [
      "Deutsches Spacy-Modell geladen\n"
     ]
    }
   ],
   "execution_count": 7
  },
  {
   "metadata": {},
   "cell_type": "markdown",
   "source": [
    "## Entitäten und Beziehungen extrahieren"
   ],
   "id": "c603fb39a82d5bc8"
  },
  {
   "metadata": {
    "ExecuteTime": {
     "end_time": "2025-08-10T18:13:59.047746Z",
     "start_time": "2025-08-10T18:13:59.018243Z"
    }
   },
   "cell_type": "code",
   "source": [
    "def extract_entities_and_concepts(text):\n",
    "    \"\"\"\n",
    "    Extrahiert Entitäten und wichtige Konzepte aus Text\n",
    "    \"\"\"\n",
    "    doc = nlp(text)\n",
    "\n",
    "    # Named Entities\n",
    "    entities = []\n",
    "    for ent in doc.ents:\n",
    "        if len(ent.text.strip()) > 2:  # Mindestlänge\n",
    "            entities.append({\n",
    "                'text': ent.text.strip(),\n",
    "                'label': ent.label_,\n",
    "                'type': 'ENTITY'\n",
    "            })\n",
    "\n",
    "    # Wichtige Noun Phrases (Konzepte)\n",
    "    concepts = []\n",
    "    for chunk in doc.noun_chunks:\n",
    "        text = chunk.text.strip().lower()\n",
    "        # Filter für relevante Konzepte\n",
    "        if (len(text) > 3 and\n",
    "            not text.startswith(('der', 'die', 'das', 'ein', 'eine')) and\n",
    "            text not in ['frage', 'antwort', 'system', 'methode']):\n",
    "            concepts.append({\n",
    "                'text': text,\n",
    "                'label': 'CONCEPT',\n",
    "                'type': 'CONCEPT'\n",
    "            })\n",
    "\n",
    "    # Deduplizierung\n",
    "    all_items = entities + concepts\n",
    "    unique_items = []\n",
    "    seen = set()\n",
    "    for item in all_items:\n",
    "        key = item['text'].lower()\n",
    "        if key not in seen:\n",
    "            seen.add(key)\n",
    "            unique_items.append(item)\n",
    "\n",
    "    return unique_items[:10]  # Top 10 relevante Items\n",
    "\n",
    "# Test der Funktion\n",
    "test_text = faq_documents[0]['question'] + \" \" + faq_documents[0]['answer']\n",
    "test_entities = extract_entities_and_concepts(test_text)\n",
    "print(\"Entity-Extraktion getestet\")\n",
    "print(f\"Beispiel-Entitäten: {[e['text'] for e in test_entities[:5]]}\")"
   ],
   "id": "4d02ee393cd31bd3",
   "outputs": [
    {
     "name": "stdout",
     "output_type": "stream",
     "text": [
      "Entity-Extraktion getestet\n",
      "Beispiel-Entitäten: ['Retrieval-Augmented Generation', 'RAG', 'Large Language Models', 'Wissensquellen', '(rag']\n"
     ]
    }
   ],
   "execution_count": 8
  },
  {
   "metadata": {},
   "cell_type": "markdown",
   "source": [
    "## Knowledge Graph aufbauen"
   ],
   "id": "ba131d8dba90b763"
  },
  {
   "metadata": {
    "ExecuteTime": {
     "end_time": "2025-08-10T18:13:59.442914Z",
     "start_time": "2025-08-10T18:13:59.068463Z"
    }
   },
   "cell_type": "code",
   "source": [
    "def clear_database():\n",
    "    \"\"\"Löscht alle Daten in der Neo4j-Datenbank\"\"\"\n",
    "    with driver.session() as session:\n",
    "        session.run(\"MATCH (n) DETACH DELETE n\")\n",
    "        print(\"Datenbank geleert\")\n",
    "\n",
    "def create_graph_schema():\n",
    "    \"\"\"Erstellt die Graph-Schema-Constraints\"\"\"\n",
    "    with driver.session() as session:\n",
    "        # Constraints für eindeutige IDs\n",
    "        session.run(\"CREATE CONSTRAINT IF NOT EXISTS FOR (d:Document) REQUIRE d.id IS UNIQUE\")\n",
    "        session.run(\"CREATE CONSTRAINT IF NOT EXISTS FOR (e:Entity) REQUIRE e.name IS UNIQUE\")\n",
    "        session.run(\"CREATE CONSTRAINT IF NOT EXISTS FOR (c:Concept) REQUIRE c.name IS UNIQUE\")\n",
    "        session.run(\"CREATE CONSTRAINT IF NOT EXISTS FOR (cat:Category) REQUIRE cat.name IS UNIQUE\")\n",
    "        print(\"Graph-Schema erstellt\")\n",
    "\n",
    "# Datenbank vorbereiten\n",
    "clear_database()\n",
    "create_graph_schema()"
   ],
   "id": "6625369f9211b95b",
   "outputs": [
    {
     "name": "stdout",
     "output_type": "stream",
     "text": [
      "Datenbank geleert\n",
      "Graph-Schema erstellt\n"
     ]
    }
   ],
   "execution_count": 9
  },
  {
   "metadata": {
    "ExecuteTime": {
     "end_time": "2025-08-10T18:14:02.144933Z",
     "start_time": "2025-08-10T18:13:59.457129Z"
    }
   },
   "cell_type": "code",
   "source": [
    "def build_knowledge_graph():\n",
    "    \"\"\"Baut den Knowledge Graph aus den FAQ-Dokumenten auf\"\"\"\n",
    "    print(\"Baue Knowledge Graph auf...\")\n",
    "\n",
    "    with driver.session() as session:\n",
    "        for doc in faq_documents:\n",
    "            # Dokument-Node erstellen\n",
    "            session.run(\"\"\"\n",
    "                CREATE (d:Document {\n",
    "                    id: $id,\n",
    "                    question: $question,\n",
    "                    answer: $answer,\n",
    "                    category: $category,\n",
    "                    full_text: $full_text\n",
    "                })\n",
    "            \"\"\", {\n",
    "                'id': doc['id'],\n",
    "                'question': doc['question'],\n",
    "                'answer': doc['answer'],\n",
    "                'category': doc['category'],\n",
    "                'full_text': doc['question'] + \" \" + doc['answer']\n",
    "            })\n",
    "\n",
    "            # Kategorie-Node erstellen und verknüpfen\n",
    "            session.run(\"\"\"\n",
    "                MERGE (cat:Category {name: $category})\n",
    "                WITH cat\n",
    "                MATCH (d:Document {id: $doc_id})\n",
    "                MERGE (d)-[:BELONGS_TO]->(cat)\n",
    "            \"\"\", {\n",
    "                'category': doc['category'],\n",
    "                'doc_id': doc['id']\n",
    "            })\n",
    "\n",
    "            # Keywords als Konzepte hinzufügen\n",
    "            for keyword in doc['keywords']:\n",
    "                session.run(\"\"\"\n",
    "                    MERGE (c:Concept {name: $keyword})\n",
    "                    WITH c\n",
    "                    MATCH (d:Document {id: $doc_id})\n",
    "                    MERGE (d)-[:MENTIONS]->(c)\n",
    "                \"\"\", {\n",
    "                    'keyword': keyword.lower(),\n",
    "                    'doc_id': doc['id']\n",
    "                })\n",
    "\n",
    "            # Entitäten aus Text extrahieren\n",
    "            combined_text = doc['question'] + \" \" + doc['answer']\n",
    "            entities = extract_entities_and_concepts(combined_text)\n",
    "\n",
    "            for entity in entities:\n",
    "                if entity['type'] == 'ENTITY':\n",
    "                    session.run(\"\"\"\n",
    "                        MERGE (e:Entity {name: $name, type: $ent_type})\n",
    "                        WITH e\n",
    "                        MATCH (d:Document {id: $doc_id})\n",
    "                        MERGE (d)-[:CONTAINS]->(e)\n",
    "                    \"\"\", {\n",
    "                        'name': entity['text'].lower(),\n",
    "                        'ent_type': entity['label'],\n",
    "                        'doc_id': doc['id']\n",
    "                    })\n",
    "                elif entity['type'] == 'CONCEPT':\n",
    "                    session.run(\"\"\"\n",
    "                        MERGE (c:Concept {name: $name})\n",
    "                        WITH c\n",
    "                        MATCH (d:Document {id: $doc_id})\n",
    "                        MERGE (d)-[:MENTIONS]->(c)\n",
    "                    \"\"\", {\n",
    "                        'name': entity['text'].lower(),\n",
    "                        'doc_id': doc['id']\n",
    "                    })\n",
    "\n",
    "    print(\"Knowledge Graph aufgebaut\")\n",
    "\n",
    "# Graph aufbauen\n",
    "build_knowledge_graph()"
   ],
   "id": "558bda1ac11aea1c",
   "outputs": [
    {
     "name": "stdout",
     "output_type": "stream",
     "text": [
      "Baue Knowledge Graph auf...\n",
      "Knowledge Graph aufgebaut\n"
     ]
    }
   ],
   "execution_count": 10
  },
  {
   "metadata": {},
   "cell_type": "markdown",
   "source": [
    "## Graph-Statistiken anzeigen"
   ],
   "id": "5b64b872612063df"
  },
  {
   "metadata": {
    "ExecuteTime": {
     "end_time": "2025-08-10T18:14:02.256029Z",
     "start_time": "2025-08-10T18:14:02.156810Z"
    }
   },
   "cell_type": "code",
   "source": [
    "def get_graph_stats():\n",
    "    \"\"\"Zeigt Statistiken über den erstellten Graph\"\"\"\n",
    "    with driver.session() as session:\n",
    "        # Anzahl Nodes nach Typ\n",
    "        stats = {}\n",
    "\n",
    "        result = session.run(\"MATCH (d:Document) RETURN count(d) as count\")\n",
    "        stats['Documents'] = result.single()['count']\n",
    "\n",
    "        result = session.run(\"MATCH (c:Concept) RETURN count(c) as count\")\n",
    "        stats['Concepts'] = result.single()['count']\n",
    "\n",
    "        result = session.run(\"MATCH (e:Entity) RETURN count(e) as count\")\n",
    "        stats['Entities'] = result.single()['count']\n",
    "\n",
    "        result = session.run(\"MATCH (cat:Category) RETURN count(cat) as count\")\n",
    "        stats['Categories'] = result.single()['count']\n",
    "\n",
    "        # Anzahl Beziehungen\n",
    "        result = session.run(\"MATCH ()-[r]->() RETURN count(r) as count\")\n",
    "        stats['Relationships'] = result.single()['count']\n",
    "\n",
    "        return stats\n",
    "\n",
    "# Statistiken anzeigen\n",
    "stats = get_graph_stats()\n",
    "print(\"=== KNOWLEDGE GRAPH STATISTIKEN ===\")\n",
    "for key, value in stats.items():\n",
    "    print(f\"{key}: {value}\")"
   ],
   "id": "2c2323ab43fbc4fd",
   "outputs": [
    {
     "name": "stdout",
     "output_type": "stream",
     "text": [
      "=== KNOWLEDGE GRAPH STATISTIKEN ===\n",
      "Documents: 15\n",
      "Concepts: 116\n",
      "Entities: 64\n",
      "Categories: 14\n",
      "Relationships: 216\n"
     ]
    }
   ],
   "execution_count": 11
  },
  {
   "metadata": {},
   "cell_type": "markdown",
   "source": [
    "## Graph-basierte Retrieval-Funktion implementieren"
   ],
   "id": "17f39c43528d7e57"
  },
  {
   "metadata": {
    "ExecuteTime": {
     "end_time": "2025-08-10T18:14:02.275848Z",
     "start_time": "2025-08-10T18:14:02.270082Z"
    }
   },
   "cell_type": "code",
   "source": [
    "def graph_retrieval(query, top_k=3):\n",
    "    \"\"\"\n",
    "    Führt Graph-basiertes Retrieval für eine Anfrage durch\n",
    "    \"\"\"\n",
    "    # Query-Entitäten extrahieren\n",
    "    query_entities = extract_entities_and_concepts(query)\n",
    "    query_terms = [e['text'].lower() for e in query_entities]\n",
    "\n",
    "    # Auch einfache Keywords aus der Query extrahieren\n",
    "    simple_terms = [word.lower().strip() for word in query.split()\n",
    "                   if len(word) > 3 and word.lower() not in ['sind', 'eine', 'eines', 'wie', 'was', 'welche']]\n",
    "\n",
    "    all_query_terms = list(set(query_terms + simple_terms))\n",
    "\n",
    "    if not all_query_terms:\n",
    "        # Fallback: Textsuche\n",
    "        all_query_terms = [query.lower()]\n",
    "\n",
    "    with driver.session() as session:\n",
    "        # Cypher-Query für Graph-Traversierung\n",
    "        cypher_query = \"\"\"\n",
    "        MATCH (d:Document)\n",
    "        OPTIONAL MATCH (d)-[:MENTIONS]->(c:Concept)\n",
    "        OPTIONAL MATCH (d)-[:CONTAINS]->(e:Entity)\n",
    "        OPTIONAL MATCH (d)-[:BELONGS_TO]->(cat:Category)\n",
    "\n",
    "        WITH d,\n",
    "             collect(DISTINCT c.name) as concepts,\n",
    "             collect(DISTINCT e.name) as entities,\n",
    "             cat.name as category,\n",
    "             d.full_text as full_text\n",
    "\n",
    "        WITH d, concepts, entities, category, full_text,\n",
    "             // Score berechnen basierend auf Übereinstimmungen\n",
    "             REDUCE(score = 0, term IN $query_terms |\n",
    "                 score +\n",
    "                 CASE WHEN term IN concepts THEN 3 ELSE 0 END +\n",
    "                 CASE WHEN term IN entities THEN 2 ELSE 0 END +\n",
    "                 CASE WHEN toLower(d.question) CONTAINS term THEN 2 ELSE 0 END +\n",
    "                 CASE WHEN toLower(d.answer) CONTAINS term THEN 1 ELSE 0 END\n",
    "             ) as relevance_score\n",
    "\n",
    "        WHERE relevance_score > 0\n",
    "\n",
    "        RETURN d.id as doc_id,\n",
    "               d.question as question,\n",
    "               d.answer as answer,\n",
    "               d.category as category,\n",
    "               concepts,\n",
    "               entities,\n",
    "               relevance_score\n",
    "\n",
    "        ORDER BY relevance_score DESC\n",
    "        LIMIT $top_k\n",
    "        \"\"\"\n",
    "\n",
    "        result = session.run(cypher_query, {\n",
    "            'query_terms': all_query_terms,\n",
    "            'top_k': top_k\n",
    "        })\n",
    "\n",
    "        # Ergebnisse formatieren\n",
    "        results = []\n",
    "        for i, record in enumerate(result):\n",
    "            results.append({\n",
    "                'rank': i + 1,\n",
    "                'score': record['relevance_score'],\n",
    "                'document_id': record['doc_id'],\n",
    "                'question': record['question'],\n",
    "                'answer': record['answer'],\n",
    "                'category': record['category'],\n",
    "                'matched_concepts': record['concepts'],\n",
    "                'matched_entities': record['entities'],\n",
    "                'query_terms': all_query_terms\n",
    "            })\n",
    "\n",
    "        return results\n",
    "\n",
    "print(\"✅ Graph-Retrieval-Funktion implementiert\")"
   ],
   "id": "ffa045d1e1dba7f4",
   "outputs": [
    {
     "name": "stdout",
     "output_type": "stream",
     "text": [
      "✅ Graph-Retrieval-Funktion implementiert\n"
     ]
    }
   ],
   "execution_count": 12
  },
  {
   "metadata": {},
   "cell_type": "markdown",
   "source": [
    "## Erste Tests mit Graph Retrieval"
   ],
   "id": "7699e4a120d3ab2b"
  },
  {
   "metadata": {
    "ExecuteTime": {
     "end_time": "2025-08-10T18:14:02.576744Z",
     "start_time": "2025-08-10T18:14:02.292099Z"
    }
   },
   "cell_type": "code",
   "source": [
    "# Test 1: Einfache Frage zu RAG\n",
    "print(\"=== TEST 1: Einfache RAG-Frage (Graph) ===\")\n",
    "query1 = \"Was ist RAG?\"\n",
    "graph_results1 = graph_retrieval(query1, top_k=3)\n",
    "\n",
    "print(f\"Query: '{query1}'\")\n",
    "print(f\"Extrahierte Begriffe: {graph_results1[0]['query_terms'] if graph_results1 else 'Keine'}\")\n",
    "print(\"\\nTop 3 Ergebnisse:\")\n",
    "for result in graph_results1:\n",
    "    print(f\"\\n{result['rank']}. Score: {result['score']}\")\n",
    "    print(f\"   Frage: {result['question']}\")\n",
    "    print(f\"   Kategorie: {result['category']}\")\n",
    "    print(f\"   Matched Concepts: {result['matched_concepts'][:3]}\")"
   ],
   "id": "6bcbcd7ddcddc86a",
   "outputs": [
    {
     "name": "stdout",
     "output_type": "stream",
     "text": [
      "=== TEST 1: Einfache RAG-Frage (Graph) ===\n",
      "Query: 'Was ist RAG?'\n",
      "Extrahierte Begriffe: ['rag?', 'rag']\n",
      "\n",
      "Top 3 Ergebnisse:\n",
      "\n",
      "1. Score: 8\n",
      "   Frage: Was ist Retrieval-Augmented Generation (RAG)?\n",
      "   Kategorie: RAG Basics\n",
      "   Matched Concepts: ['aktuellere informationen', 'halluzinationen', 'seine antworten']\n",
      "\n",
      "2. Score: 6\n",
      "   Frage: Wie wählt man die richtige Chunk-Größe für RAG?\n",
      "   Kategorie: Data Processing\n",
      "   Matched Concepts: ['große chunks', 'präzise retrieval', '(100-200 tokens']\n",
      "\n",
      "3. Score: 5\n",
      "   Frage: Wie implementiert man RAG mit Neo4j?\n",
      "   Kategorie: Graph Implementation\n",
      "   Matched Concepts: ['vektorsuche', 'graphtraversierung', 'graph']\n"
     ]
    }
   ],
   "execution_count": 13
  },
  {
   "metadata": {
    "ExecuteTime": {
     "end_time": "2025-08-10T18:14:02.611945Z",
     "start_time": "2025-08-10T18:14:02.588545Z"
    }
   },
   "cell_type": "code",
   "source": [
    "# Test 2: Technische Frage zu Vektoren\n",
    "print(\"\\n=== TEST 2: Technische Frage (Graph) ===\")\n",
    "query2 = \"Wie funktioniert Vektorsuche?\"\n",
    "graph_results2 = graph_retrieval(query2, top_k=3)\n",
    "\n",
    "print(f\"Query: '{query2}'\")\n",
    "print(f\"Extrahierte Begriffe: {graph_results2[0]['query_terms'] if graph_results2 else 'Keine'}\")\n",
    "print(\"\\nTop 3 Ergebnisse:\")\n",
    "for result in graph_results2:\n",
    "    print(f\"\\n{result['rank']}. Score: {result['score']}\")\n",
    "    print(f\"   Frage: {result['question']}\")\n",
    "    print(f\"   Kategorie: {result['category']}\")\n",
    "    print(f\"   Matched Concepts: {result['matched_concepts'][:3]}\")"
   ],
   "id": "323da8552125242e",
   "outputs": [
    {
     "name": "stdout",
     "output_type": "stream",
     "text": [
      "\n",
      "=== TEST 2: Technische Frage (Graph) ===\n",
      "Query: 'Wie funktioniert Vektorsuche?'\n",
      "Extrahierte Begriffe: ['vektorsuche?', 'vektorsuche', 'funktioniert']\n",
      "\n",
      "Top 3 Ergebnisse:\n",
      "\n",
      "1. Score: 7\n",
      "   Frage: Wie funktioniert Vektorsuche in RAG-Systemen?\n",
      "   Kategorie: Vector Retrieval\n",
      "   Matched Concepts: ['ähnliche bibliotheken', 'andere metriken', 'cosinus-ähnlichkeit']\n",
      "\n",
      "2. Score: 4\n",
      "   Frage: Wie implementiert man RAG mit Neo4j?\n",
      "   Kategorie: Graph Implementation\n",
      "   Matched Concepts: ['vektorsuche', 'graphtraversierung', 'graph']\n",
      "\n",
      "3. Score: 2\n",
      "   Frage: Wie funktioniert Re-ranking in RAG-Pipelines?\n",
      "   Kategorie: Advanced Techniques\n",
      "   Matched Concepts: ['rag-pipelines', 'two-stage retrieval', 'cross-encoder']\n"
     ]
    }
   ],
   "execution_count": 14
  },
  {
   "metadata": {
    "ExecuteTime": {
     "end_time": "2025-08-10T18:14:02.652068Z",
     "start_time": "2025-08-10T18:14:02.626404Z"
    }
   },
   "cell_type": "code",
   "source": [
    "# Test 3: Vergleichsfrage\n",
    "print(\"\\n=== TEST 3: Vergleichsfrage (Graph) ===\")\n",
    "query3 = \"Unterschied zwischen Vektor und Graph Retrieval\"\n",
    "graph_results3 = graph_retrieval(query3, top_k=3)\n",
    "\n",
    "print(f\"Query: '{query3}'\")\n",
    "print(f\"Extrahierte Begriffe: {graph_results3[0]['query_terms'] if graph_results3 else 'Keine'}\")\n",
    "print(\"\\nTop 3 Ergebnisse:\")\n",
    "for result in graph_results3:\n",
    "    print(f\"\\n{result['rank']}. Score: {result['score']}\")\n",
    "    print(f\"   Frage: {result['question']}\")\n",
    "    print(f\"   Kategorie: {result['category']}\")\n",
    "    print(f\"   Matched Concepts: {result['matched_concepts'][:3]}\")"
   ],
   "id": "36a71cf6d6f000f1",
   "outputs": [
    {
     "name": "stdout",
     "output_type": "stream",
     "text": [
      "\n",
      "=== TEST 3: Vergleichsfrage (Graph) ===\n",
      "Query: 'Unterschied zwischen Vektor und Graph Retrieval'\n",
      "Extrahierte Begriffe: ['vektor und graph retrieval', 'vektor', 'zwischen', 'retrieval', 'unterschied', 'graph']\n",
      "\n",
      "Top 3 Ergebnisse:\n",
      "\n",
      "1. Score: 10\n",
      "   Frage: Was ist der Unterschied zwischen Dense und Sparse Retrieval?\n",
      "   Kategorie: Retrieval Methods\n",
      "   Matched Concepts: ['semantische suche', 'exakte keyword-matches', 'semantische ähnlichkeit']\n",
      "\n",
      "2. Score: 8\n",
      "   Frage: Wie implementiert man RAG mit Neo4j?\n",
      "   Kategorie: Graph Implementation\n",
      "   Matched Concepts: ['vektorsuche', 'graphtraversierung', 'graph']\n",
      "\n",
      "3. Score: 7\n",
      "   Frage: Was sind die Vorteile von Graph-basiertem Retrieval?\n",
      "   Kategorie: Graph Retrieval\n",
      "   Matched Concepts: ['graphtraversierung', 'kontext', 'strukturierten daten']\n"
     ]
    }
   ],
   "execution_count": 15
  },
  {
   "metadata": {},
   "cell_type": "markdown",
   "source": [
    "## Systematischer Test mit allen Testfragen"
   ],
   "id": "ba132be80015ab29"
  },
  {
   "metadata": {
    "ExecuteTime": {
     "end_time": "2025-08-10T18:14:02.865028Z",
     "start_time": "2025-08-10T18:14:02.667633Z"
    }
   },
   "cell_type": "code",
   "source": [
    "# Alle Testfragen mit Graph Retrieval durchlaufen\n",
    "print(\"=== SYSTEMATISCHER TEST ALLER TESTFRAGEN (GRAPH) ===\")\n",
    "\n",
    "graph_results = []\n",
    "\n",
    "for idx, row in test_questions.iterrows():\n",
    "    query = row['question']\n",
    "    question_id = row['id']\n",
    "    difficulty = row['difficulty']\n",
    "\n",
    "    # Graph-Retrieval durchführen\n",
    "    results = graph_retrieval(query, top_k=3)\n",
    "\n",
    "    # Bestes Ergebnis speichern\n",
    "    if results:\n",
    "        best_result = results[0]\n",
    "        graph_results.append({\n",
    "            'question_id': question_id,\n",
    "            'query': query,\n",
    "            'difficulty': difficulty,\n",
    "            'retrieved_doc_id': best_result['document_id'],\n",
    "            'retrieval_score': best_result['score'],\n",
    "            'retrieved_question': best_result['question'],\n",
    "            'retrieved_category': best_result['category'],\n",
    "            'matched_concepts': len(best_result['matched_concepts']),\n",
    "            'query_terms': len(best_result['query_terms'])\n",
    "        })\n",
    "        score = best_result['score']\n",
    "    else:\n",
    "        # Kein Ergebnis gefunden\n",
    "        graph_results.append({\n",
    "            'question_id': question_id,\n",
    "            'query': query,\n",
    "            'difficulty': difficulty,\n",
    "            'retrieved_doc_id': 'NO_RESULT',\n",
    "            'retrieval_score': 0,\n",
    "            'retrieved_question': '',\n",
    "            'retrieved_category': '',\n",
    "            'matched_concepts': 0,\n",
    "            'query_terms': 0\n",
    "        })\n",
    "        score = 0\n",
    "\n",
    "    print(f\"✅ {question_id}: {difficulty} - Score: {score}\")\n",
    "\n",
    "print(f\"\\n✅ {len(graph_results)} Testfragen abgearbeitet\")"
   ],
   "id": "d6c48e86a42a0a31",
   "outputs": [
    {
     "name": "stdout",
     "output_type": "stream",
     "text": [
      "=== SYSTEMATISCHER TEST ALLER TESTFRAGEN (GRAPH) ===\n",
      "✅ q001: easy - Score: 1\n",
      "✅ q002: medium - Score: 2\n",
      "✅ q003: medium - Score: 4\n",
      "✅ q004: hard - Score: 0\n",
      "✅ q005: easy - Score: 0\n",
      "✅ q006: hard - Score: 11\n",
      "✅ q007: medium - Score: 7\n",
      "✅ q008: medium - Score: 15\n",
      "✅ q009: hard - Score: 8\n",
      "✅ q010: medium - Score: 0\n",
      "✅ q011: easy - Score: 11\n",
      "✅ q012: hard - Score: 0\n",
      "\n",
      "✅ 12 Testfragen abgearbeitet\n"
     ]
    }
   ],
   "execution_count": 16
  },
  {
   "metadata": {},
   "cell_type": "markdown",
   "source": [
    "## Graph Retrieval Ergebnisse analysieren"
   ],
   "id": "6fe1c2f5c49862d1"
  },
  {
   "metadata": {
    "ExecuteTime": {
     "end_time": "2025-08-10T18:14:02.900023Z",
     "start_time": "2025-08-10T18:14:02.881507Z"
    }
   },
   "cell_type": "code",
   "source": [
    "# Ergebnisse in DataFrame konvertieren\n",
    "graph_df = pd.DataFrame(graph_results)\n",
    "\n",
    "print(\"=== GRAPH RETRIEVAL ANALYSE ===\")\n",
    "print(f\"Anzahl Testfragen: {len(graph_df)}\")\n",
    "print(f\"Erfolgreiche Retrievals: {len(graph_df[graph_df['retrieval_score'] > 0])}\")\n",
    "print(f\"Durchschnittlicher Score: {graph_df['retrieval_score'].mean():.3f}\")\n",
    "print(f\"Minimaler Score: {graph_df['retrieval_score'].min():.3f}\")\n",
    "print(f\"Maximaler Score: {graph_df['retrieval_score'].max():.3f}\")\n",
    "\n",
    "# Analyse nach Schwierigkeit\n",
    "print(\"\\n=== GRAPH SCORES NACH SCHWIERIGKEIT ===\")\n",
    "difficulty_stats = graph_df.groupby('difficulty')['retrieval_score'].agg(['count', 'mean', 'std']).round(3)\n",
    "print(difficulty_stats)\n",
    "\n",
    "# Top 5 und Bottom 5 Ergebnisse\n",
    "print(\"\\n=== TOP 5 GRAPH RETRIEVAL ERGEBNISSE ===\")\n",
    "top_5 = graph_df.nlargest(5, 'retrieval_score')[['question_id', 'difficulty', 'retrieval_score', 'query']]\n",
    "print(top_5.to_string(index=False))\n",
    "\n",
    "print(\"\\n=== SCHWÄCHSTE 5 GRAPH RETRIEVAL ERGEBNISSE ===\")\n",
    "bottom_5 = graph_df.nsmallest(5, 'retrieval_score')[['question_id', 'difficulty', 'retrieval_score', 'query']]\n",
    "print(bottom_5.to_string(index=False))"
   ],
   "id": "32c230ba18c2a3c2",
   "outputs": [
    {
     "name": "stdout",
     "output_type": "stream",
     "text": [
      "=== GRAPH RETRIEVAL ANALYSE ===\n",
      "Anzahl Testfragen: 12\n",
      "Erfolgreiche Retrievals: 8\n",
      "Durchschnittlicher Score: 4.917\n",
      "Minimaler Score: 0.000\n",
      "Maximaler Score: 15.000\n",
      "\n",
      "=== GRAPH SCORES NACH SCHWIERIGKEIT ===\n",
      "            count  mean    std\n",
      "difficulty                    \n",
      "easy            3  4.00  6.083\n",
      "hard            4  4.75  5.620\n",
      "medium          5  5.60  5.857\n",
      "\n",
      "=== TOP 5 GRAPH RETRIEVAL ERGEBNISSE ===\n",
      "question_id difficulty  retrieval_score                                                   query\n",
      "       q008     medium               15 Was sind häufige Probleme bei RAG und wie löse ich sie?\n",
      "       q006       hard               11                 Wie implementiere ich Hybrid Retrieval?\n",
      "       q011       easy               11                  Welche Zukunftstrends gibt es bei RAG?\n",
      "       q009       hard                8              Wie funktioniert RAG mit Knowledge Graphs?\n",
      "       q007     medium                7               Welche Vector Database sollte ich wählen?\n",
      "\n",
      "=== SCHWÄCHSTE 5 GRAPH RETRIEVAL ERGEBNISSE ===\n",
      "question_id difficulty  retrieval_score                                                 query\n",
      "       q004       hard                0 Wie optimiere ich die Performance meines RAG-Systems?\n",
      "       q005       easy                0             Was kostet der Betrieb eines RAG-Systems?\n",
      "       q010     medium                0  Was ist der optimale Chunk-Size für meine Dokumente?\n",
      "       q012       hard                0          Wie verbessere ich meine Embedding-Qualität?\n",
      "       q001       easy                1                   Erkläre mir RAG in einfachen Worten\n"
     ]
    }
   ],
   "execution_count": 17
  },
  {
   "metadata": {},
   "cell_type": "markdown",
   "source": [
    "## Ergebnisse speichern"
   ],
   "id": "64903435dba1168c"
  },
  {
   "metadata": {
    "ExecuteTime": {
     "end_time": "2025-08-10T18:14:02.949319Z",
     "start_time": "2025-08-10T18:14:02.920322Z"
    }
   },
   "cell_type": "code",
   "source": [
    "# Graph Retrieval Ergebnisse speichern\n",
    "graph_df.to_csv('../results/graph_retrieval_results.csv', index=False, encoding='utf-8')\n",
    "\n",
    "# Graph-Metadaten speichern\n",
    "graph_metadata = {\n",
    "    'neo4j_uri': NEO4J_URI,\n",
    "    'graph_stats': get_graph_stats(),\n",
    "    'creation_time': time.time()\n",
    "}\n",
    "\n",
    "with open('../data/graph_metadata.pkl', 'wb') as f:\n",
    "    pickle.dump(graph_metadata, f)\n",
    "\n",
    "print(\"Graph-Ergebnisse gespeichert:\")\n",
    "print(\"  - ../results/graph_retrieval_results.csv\")\n",
    "print(\"  - ../data/graph_metadata.pkl\")"
   ],
   "id": "6c0e74094598384a",
   "outputs": [
    {
     "name": "stdout",
     "output_type": "stream",
     "text": [
      "Graph-Ergebnisse gespeichert:\n",
      "  - ../results/graph_retrieval_results.csv\n",
      "  - ../data/graph_metadata.pkl\n"
     ]
    }
   ],
   "execution_count": 18
  },
  {
   "metadata": {
    "ExecuteTime": {
     "end_time": "2025-08-10T18:14:02.985396Z",
     "start_time": "2025-08-10T18:14:02.979069Z"
    }
   },
   "cell_type": "code",
   "source": [
    "print(\"\\n=== GRAPH RETRIEVAL ABGESCHLOSSEN ===\")\n",
    "print(\"Knowledge Graph in Neo4j aufgebaut\")\n",
    "print(\"12 Testfragen erfolgreich abgearbeitet\")\n",
    "print(\"Ergebnisse gespeichert\")\n",
    "print(f\"Durchschnittlicher Retrieval-Score: {graph_df['retrieval_score'].mean():.3f}\")\n",
    "print(f\"Erfolgreiche Retrievals: {len(graph_df[graph_df['retrieval_score'] > 0])}/12\")\n",
    "\n",
    "# Neo4j-Verbindung schließen\n",
    "driver.close()\n",
    "print(\"Neo4j-Verbindung geschlossen\")"
   ],
   "id": "c9da41949a138726",
   "outputs": [
    {
     "name": "stdout",
     "output_type": "stream",
     "text": [
      "\n",
      "=== GRAPH RETRIEVAL ABGESCHLOSSEN ===\n",
      "Knowledge Graph in Neo4j aufgebaut\n",
      "12 Testfragen erfolgreich abgearbeitet\n",
      "Ergebnisse gespeichert\n",
      "Durchschnittlicher Retrieval-Score: 4.917\n",
      "Erfolgreiche Retrievals: 8/12\n",
      "\n",
      "Neo4j-Verbindung geschlossen\n"
     ]
    }
   ],
   "execution_count": 19
  }
 ],
 "metadata": {
  "kernelspec": {
   "display_name": "Python 3",
   "language": "python",
   "name": "python3"
  },
  "language_info": {
   "codemirror_mode": {
    "name": "ipython",
    "version": 2
   },
   "file_extension": ".py",
   "mimetype": "text/x-python",
   "name": "python",
   "nbconvert_exporter": "python",
   "pygments_lexer": "ipython2",
   "version": "2.7.6"
  }
 },
 "nbformat": 4,
 "nbformat_minor": 5
}
