{
 "cells": [
  {
   "metadata": {},
   "cell_type": "markdown",
   "source": [
    "# 06 - Summary und Report\n",
    "\n",
    "Zusammenfassung des Grundprojekts mit finalen Ergebnissen, Erkenntnissen und Ausblick.\n",
    "\n",
    "## Ziele:\n",
    "- Zusammenfassung aller Experimente\n",
    "- Vergleichende Bewertung der Methoden\n",
    "- Lessons Learned dokumentieren\n",
    "- Ausblick auf Hauptprojekt\n",
    "- Finaler Report für Kolloquium"
   ],
   "id": "3122dd7e2da56eee"
  },
  {
   "metadata": {
    "ExecuteTime": {
     "end_time": "2025-08-13T13:57:18.352953Z",
     "start_time": "2025-08-13T13:57:18.346969Z"
    }
   },
   "cell_type": "code",
   "source": [
    "# Imports\n",
    "import json\n",
    "import pandas as pd\n",
    "import numpy as np\n",
    "import matplotlib.pyplot as plt\n",
    "import seaborn as sns\n",
    "from pathlib import Path\n",
    "import time\n",
    "from datetime import datetime\n",
    "\n",
    "print(\"Imports erfolgreich\")"
   ],
   "id": "80e070978f549b74",
   "outputs": [
    {
     "name": "stdout",
     "output_type": "stream",
     "text": [
      "Imports erfolgreich\n"
     ]
    }
   ],
   "execution_count": 12
  },
  {
   "metadata": {},
   "cell_type": "markdown",
   "source": [
    "## Alle Ergebnisse laden"
   ],
   "id": "65a1b4f2f9da466b"
  },
  {
   "metadata": {
    "ExecuteTime": {
     "end_time": "2025-08-13T13:57:18.407641Z",
     "start_time": "2025-08-13T13:57:18.392191Z"
    }
   },
   "cell_type": "code",
   "source": [
    "# Alle finalen Ergebnisse laden\n",
    "try:\n",
    "    # Evaluation Ergebnisse\n",
    "    bleu_df = pd.read_csv('../results/bleu_scores.csv')\n",
    "    rouge_df = pd.read_csv('../results/rouge_scores.csv')\n",
    "    evaluation_summary = pd.read_csv('../results/evaluation_summary.csv')\n",
    "\n",
    "    # Pipeline Ergebnisse\n",
    "    rag_results = pd.read_csv('../results/rag_pipeline_results.csv')\n",
    "    vector_results = pd.read_csv('../results/vector_retrieval_results.csv')\n",
    "    graph_results = pd.read_csv('../results/graph_retrieval_results.csv')\n",
    "\n",
    "    # Finale Metriken\n",
    "    with open('../results/final_metrics.json', 'r', encoding='utf-8') as f:\n",
    "        final_metrics = json.load(f)\n",
    "\n",
    "    # FAQ und Fragen\n",
    "    with open('../data/faq_korpus.json', 'r', encoding='utf-8') as f:\n",
    "        faq_documents = json.load(f)\n",
    "\n",
    "    test_questions = pd.read_csv('../data/fragenliste.csv')\n",
    "\n",
    "    print(\"Alle Ergebnisse erfolgreich geladen\")\n",
    "    print(f\"Evaluation abgeschlossen am: {final_metrics['evaluation_date']}\")\n",
    "\n",
    "except Exception as e:\n",
    "    print(f\"Fehler beim Laden: {e}\")\n",
    "    print(\"Stelle sicher, dass alle vorherigen Notebooks ausgeführt wurden\")"
   ],
   "id": "d0b81ec7fc7049c0",
   "outputs": [
    {
     "name": "stdout",
     "output_type": "stream",
     "text": [
      "Alle Ergebnisse erfolgreich geladen\n",
      "Evaluation abgeschlossen am: 2025-08-13 13:23:11\n"
     ]
    }
   ],
   "execution_count": 13
  },
  {
   "metadata": {},
   "cell_type": "markdown",
   "source": [
    "## Projekt-Übersicht"
   ],
   "id": "3ea27e9bb7a1400c"
  },
  {
   "metadata": {
    "ExecuteTime": {
     "end_time": "2025-08-13T13:57:18.452773Z",
     "start_time": "2025-08-13T13:57:18.446980Z"
    }
   },
   "cell_type": "code",
   "source": [
    "# Projekt-Statistiken\n",
    "print(\"=\" * 70)\n",
    "print(\"RAG-BENCHMARKING GRUNDPROJEKT - ÜBERSICHT\")\n",
    "print(\"=\" * 70)\n",
    "\n",
    "print(f\"\\nDATEN:\")\n",
    "print(f\"   • FAQ-Dokumente: {len(faq_documents)}\")\n",
    "print(f\"   • Testfragen: {len(test_questions)}\")\n",
    "print(f\"   • Schwierigkeitsgrade: {test_questions['difficulty'].value_counts().to_dict()}\")\n",
    "\n",
    "print(f\"\\nMETHODEN VERGLICHEN:\")\n",
    "for method in final_metrics['methods_compared']:\n",
    "    print(f\"   • {method.title()} Retrieval + LLM\")\n",
    "\n",
    "print(f\"\\nMETRIKEN BERECHNET:\")\n",
    "print(f\"   • BLEU Scores: {len(bleu_df)} Bewertungen\")\n",
    "print(f\"   • ROUGE Scores: {len(rouge_df)} Bewertungen\")\n",
    "print(f\"   • Retrieval Performance analysiert\")\n",
    "print(f\"   • Response Time gemessen\")\n",
    "\n",
    "print(\"\\n\" + \"=\" * 70)"
   ],
   "id": "38d406b9d0fb270c",
   "outputs": [
    {
     "name": "stdout",
     "output_type": "stream",
     "text": [
      "======================================================================\n",
      "RAG-BENCHMARKING GRUNDPROJEKT - ÜBERSICHT\n",
      "======================================================================\n",
      "\n",
      "DATEN:\n",
      "   • FAQ-Dokumente: 15\n",
      "   • Testfragen: 12\n",
      "   • Schwierigkeitsgrade: {'medium': 5, 'hard': 4, 'easy': 3}\n",
      "\n",
      "METHODEN VERGLICHEN:\n",
      "   • Vector Retrieval + LLM\n",
      "   • Graph Retrieval + LLM\n",
      "   • Baseline Retrieval + LLM\n",
      "\n",
      "METRIKEN BERECHNET:\n",
      "   • BLEU Scores: 36 Bewertungen\n",
      "   • ROUGE Scores: 36 Bewertungen\n",
      "   • Retrieval Performance analysiert\n",
      "   • Response Time gemessen\n",
      "\n",
      "======================================================================\n"
     ]
    }
   ],
   "execution_count": 14
  },
  {
   "metadata": {},
   "cell_type": "markdown",
   "source": [
    "## Wichtigste Ergebnisse"
   ],
   "id": "ae8bda566a7ed384"
  },
  {
   "metadata": {
    "ExecuteTime": {
     "end_time": "2025-08-13T13:57:18.497347Z",
     "start_time": "2025-08-13T13:57:18.490398Z"
    }
   },
   "cell_type": "code",
   "source": [
    "# Hauptergebnisse zusammenfassen\n",
    "print(\"HAUPTERGEBNISSE DES BENCHMARKINGS\")\n",
    "print(\"=\" * 50)\n",
    "\n",
    "# Beste Methode nach BLEU\n",
    "best_method = evaluation_summary.loc[evaluation_summary['bleu_score'].idxmax(), 'method']\n",
    "best_bleu = evaluation_summary['bleu_score'].max()\n",
    "\n",
    "print(f\"\\nSIEGER (BLEU Score): {best_method.upper()}\")\n",
    "print(f\"   Score: {best_bleu:.3f}\")\n",
    "\n",
    "# Alle Methoden Performance\n",
    "print(f\"\\nBLEU SCORES VERGLEICH:\")\n",
    "for _, row in evaluation_summary.iterrows():\n",
    "    method = row['method']\n",
    "    score = row['bleu_score']\n",
    "    print(f\"   • {method.title():10}: {score:.3f}\")\n",
    "\n",
    "# ROUGE-1 Vergleich\n",
    "print(f\"\\nROUGE-1 SCORES VERGLEICH:\")\n",
    "for _, row in evaluation_summary.iterrows():\n",
    "    method = row['method']\n",
    "    score = row['rouge1_f']\n",
    "    print(f\"   • {method.title():10}: {score:.3f}\")\n",
    "\n",
    "# Response Time\n",
    "print(f\"\\nANTWORTZEITEN:\")\n",
    "for _, row in evaluation_summary.iterrows():\n",
    "    method = row['method']\n",
    "    time_val = row['avg_response_time']\n",
    "    print(f\"   • {method.title():10}: {time_val:.3f}s\")\n",
    "\n",
    "# Retrieval Success\n",
    "print(f\"\\nRETRIEVAL SUCCESS RATES:\")\n",
    "print(f\"   • Vector: {final_metrics['vector_success_rate']:.1%}\")\n",
    "print(f\"   • Graph:  {final_metrics['graph_success_rate']:.1%}\")"
   ],
   "id": "557cc5684024bbf0",
   "outputs": [
    {
     "name": "stdout",
     "output_type": "stream",
     "text": [
      "HAUPTERGEBNISSE DES BENCHMARKINGS\n",
      "==================================================\n",
      "\n",
      "SIEGER (BLEU Score): VECTOR\n",
      "   Score: 0.137\n",
      "\n",
      "BLEU SCORES VERGLEICH:\n",
      "   • Vector    : 0.137\n",
      "   • Graph     : 0.074\n",
      "   • Baseline  : 0.003\n",
      "\n",
      "ROUGE-1 SCORES VERGLEICH:\n",
      "   • Vector    : 0.506\n",
      "   • Graph     : 0.348\n",
      "   • Baseline  : 0.136\n",
      "\n",
      "ANTWORTZEITEN:\n",
      "   • Vector    : 1.117s\n",
      "   • Graph     : 0.764s\n",
      "   • Baseline  : 3.007s\n",
      "\n",
      "RETRIEVAL SUCCESS RATES:\n",
      "   • Vector: 100.0%\n",
      "   • Graph:  66.7%\n"
     ]
    }
   ],
   "execution_count": 15
  },
  {
   "metadata": {},
   "cell_type": "markdown",
   "source": [
    "## Detaillierte Analyse nach Schwierigkeit"
   ],
   "id": "9704d98ff3d3f6ab"
  },
  {
   "metadata": {
    "ExecuteTime": {
     "end_time": "2025-08-13T13:57:18.547746Z",
     "start_time": "2025-08-13T13:57:18.539147Z"
    }
   },
   "cell_type": "code",
   "source": [
    "# Performance nach Schwierigkeitsgrad\n",
    "difficulty_bleu = bleu_df.groupby(['difficulty', 'method'])['bleu_score'].mean().unstack().fillna(0)\n",
    "\n",
    "print(\"PERFORMANCE NACH SCHWIERIGKEITSGRAD\")\n",
    "print(\"=\" * 45)\n",
    "\n",
    "for difficulty in ['easy', 'medium', 'hard']:\n",
    "    if difficulty in difficulty_bleu.index:\n",
    "        print(f\"\\n{difficulty.upper()} FRAGEN:\")\n",
    "        for method in ['vector', 'graph', 'baseline']:\n",
    "            if method in difficulty_bleu.columns:\n",
    "                score = difficulty_bleu.loc[difficulty, method]\n",
    "                print(f\"   • {method.title():9}: {score:.3f} BLEU\")\n",
    "\n",
    "        # Bester für diese Schwierigkeit\n",
    "        best_method_diff = difficulty_bleu.loc[difficulty].idxmax()\n",
    "        best_score_diff = difficulty_bleu.loc[difficulty].max()\n",
    "        print(f\"   → Bester: {best_method_diff.title()} ({best_score_diff:.3f})\")\n",
    "\n",
    "# Schwierigkeitsgrad-Trends\n",
    "print(f\"\\nTRENDS:\")\n",
    "vector_trend = [difficulty_bleu.loc[d, 'vector'] for d in ['easy', 'medium', 'hard'] if d in difficulty_bleu.index and 'vector' in difficulty_bleu.columns]\n",
    "if len(vector_trend) == 3:\n",
    "    if vector_trend[0] > vector_trend[2]:\n",
    "        print(\"   • Vector Retrieval: Besser bei 'einfachen' Fragen\")\n",
    "    else:\n",
    "        print(\"   • Vector Retrieval: Besser bei 'komplexen' Fragen\")"
   ],
   "id": "6df4b2748a4cd6bc",
   "outputs": [
    {
     "name": "stdout",
     "output_type": "stream",
     "text": [
      "PERFORMANCE NACH SCHWIERIGKEITSGRAD\n",
      "=============================================\n",
      "\n",
      "EASY FRAGEN:\n",
      "   • Vector   : 0.244 BLEU\n",
      "   • Graph    : 0.052 BLEU\n",
      "   • Baseline : 0.006 BLEU\n",
      "   → Bester: Vector (0.244)\n",
      "\n",
      "MEDIUM FRAGEN:\n",
      "   • Vector   : 0.148 BLEU\n",
      "   • Graph    : 0.139 BLEU\n",
      "   • Baseline : 0.003 BLEU\n",
      "   → Bester: Vector (0.148)\n",
      "\n",
      "HARD FRAGEN:\n",
      "   • Vector   : 0.042 BLEU\n",
      "   • Graph    : 0.010 BLEU\n",
      "   • Baseline : 0.002 BLEU\n",
      "   → Bester: Vector (0.042)\n",
      "\n",
      "TRENDS:\n",
      "   • Vector Retrieval: Besser bei 'einfachen' Fragen\n"
     ]
    }
   ],
   "execution_count": 16
  },
  {
   "metadata": {},
   "cell_type": "markdown",
   "source": [
    "## Qualitative Erkenntnisse"
   ],
   "id": "4b5212f34ecbda74"
  },
  {
   "metadata": {
    "ExecuteTime": {
     "end_time": "2025-08-13T13:57:18.601453Z",
     "start_time": "2025-08-13T13:57:18.593017Z"
    }
   },
   "cell_type": "code",
   "source": [
    "# Beste und schlechteste Ergebnisse analysieren\n",
    "print(\"QUALITATIVE ERKENNTNISSE\")\n",
    "print(\"=\" * 35)\n",
    "\n",
    "# Beste Antwort insgesamt\n",
    "best_overall = bleu_df.loc[bleu_df['bleu_score'].idxmax()]\n",
    "print(f\"\\nBESTE ANTWORT:\")\n",
    "print(f\"   Frage: {best_overall['question_id']}\")\n",
    "print(f\"   Methode: {best_overall['method'].title()}\")\n",
    "print(f\"   BLEU Score: {best_overall['bleu_score']:.3f}\")\n",
    "print(f\"   Schwierigkeit: {best_overall['difficulty']}\")\n",
    "\n",
    "# Schlechteste Antwort\n",
    "worst_overall = bleu_df.loc[bleu_df['bleu_score'].idxmin()]\n",
    "print(f\"\\nSCHWÄCHSTE ANTWORT:\")\n",
    "print(f\"   Frage: {worst_overall['question_id']}\")\n",
    "print(f\"   Methode: {worst_overall['method'].title()}\")\n",
    "print(f\"   BLEU Score: {worst_overall['bleu_score']:.3f}\")\n",
    "print(f\"   Schwierigkeit: {worst_overall['difficulty']}\")\n",
    "\n",
    "# Methodenvergleich\n",
    "print(f\"\\nMETHODENVERGLEICH:\")\n",
    "\n",
    "# Vector vs Graph\n",
    "vector_avg = evaluation_summary[evaluation_summary['method'] == 'vector']['bleu_score'].iloc[0]\n",
    "graph_avg = evaluation_summary[evaluation_summary['method'] == 'graph']['bleu_score'].iloc[0]\n",
    "baseline_avg = evaluation_summary[evaluation_summary['method'] == 'baseline']['bleu_score'].iloc[0]\n",
    "\n",
    "print(f\"   • Vector vs Graph: {((vector_avg/graph_avg-1)*100):+.1f}% Unterschied\")\n",
    "print(f\"   • RAG vs Baseline: {((max(vector_avg, graph_avg)/baseline_avg-1)*100):+.1f}% Verbesserung\")\n",
    "\n",
    "# Konsistenz (Standardabweichung)\n",
    "method_consistency = bleu_df.groupby('method')['bleu_score'].std()\n",
    "print(f\"\\nKONSISTENZ (niedrigere Standardabweichung = konsistenter):\")\n",
    "for method, std in method_consistency.items():\n",
    "    print(f\"   • {method.title():9}: {std:.3f} StdDev\")"
   ],
   "id": "1191075d2d8c780b",
   "outputs": [
    {
     "name": "stdout",
     "output_type": "stream",
     "text": [
      "QUALITATIVE ERKENNTNISSE\n",
      "===================================\n",
      "\n",
      "BESTE ANTWORT:\n",
      "   Frage: q001\n",
      "   Methode: Vector\n",
      "   BLEU Score: 0.431\n",
      "   Schwierigkeit: easy\n",
      "\n",
      "SCHWÄCHSTE ANTWORT:\n",
      "   Frage: q004\n",
      "   Methode: Graph\n",
      "   BLEU Score: 0.000\n",
      "   Schwierigkeit: hard\n",
      "\n",
      "METHODENVERGLEICH:\n",
      "   • Vector vs Graph: +84.2% Unterschied\n",
      "   • RAG vs Baseline: +3966.5% Verbesserung\n",
      "\n",
      "KONSISTENZ (niedrigere Standardabweichung = konsistenter):\n",
      "   • Baseline : 0.003 StdDev\n",
      "   • Graph    : 0.106 StdDev\n",
      "   • Vector   : 0.126 StdDev\n"
     ]
    }
   ],
   "execution_count": 17
  },
  {
   "metadata": {},
   "cell_type": "markdown",
   "source": [
    "## Lessons Learned"
   ],
   "id": "a7eb73e32ff5e1ab"
  },
  {
   "metadata": {
    "ExecuteTime": {
     "end_time": "2025-08-13T13:57:18.642838Z",
     "start_time": "2025-08-13T13:57:18.636837Z"
    }
   },
   "cell_type": "code",
   "source": [
    "print(\"LESSONS LEARNED\")\n",
    "print(\"=\" * 25)\n",
    "\n",
    "print(f\"\\nWAS GUT FUNKTIONIERT HAT:\")\n",
    "\n",
    "# Automatische Erkenntnisse basierend auf Daten\n",
    "if vector_avg > graph_avg:\n",
    "    print(f\"   • Vector Retrieval überzeugt mit {vector_avg:.3f} BLEU Score\")\n",
    "    print(f\"   • FAISS + Sentence Transformers funktioniert zuverlässig\")\n",
    "else:\n",
    "    print(f\"   • Graph Retrieval zeigt mit {graph_avg:.3f} BLEU Score gute Performance\")\n",
    "    print(f\"   • Neo4j Knowledge Graph bringt strukturierte Vorteile\")\n",
    "\n",
    "if max(vector_avg, graph_avg) > baseline_avg:\n",
    "    print(f\"   • RAG verbessert Antwortqualität um {((max(vector_avg, graph_avg)/baseline_avg-1)*100):.1f}%\")\n",
    "    print(f\"   • External Knowledge Integration funktioniert\")\n",
    "\n",
    "# Retrieval Success\n",
    "if final_metrics['vector_success_rate'] > 0.8:\n",
    "    print(f\"   • Vector Retrieval sehr zuverlässig ({final_metrics['vector_success_rate']:.1%} Success Rate)\")\n",
    "\n",
    "print(f\"\\nHERAUSFORDERUNGEN:\")\n",
    "print(f\"   • Entity Extraction für Graph könnte verbessert werden\")\n",
    "print(f\"   • Kleine Datenmenge (15 Docs) limitiert komplexe Analysen\")\n",
    "\n",
    "if final_metrics['graph_success_rate'] < final_metrics['vector_success_rate']:\n",
    "    print(f\"   • Graph Retrieval weniger robust als Vector Retrieval\")\n",
    "\n",
    "print(f\"\\nTECHNISCHE ERKENNTNISSE:\")\n",
    "print(f\"   • GPT-4.1-nano ausreichend für FAQ-Antworten\")\n",
    "print(f\"   • BLEU/ROUGE Metriken bieten gute Baseline-Bewertung\")\n",
    "print(f\"   • LangChain Framework vereinfacht Pipeline-Entwicklung\")\n",
    "\n",
    "print(f\"\\nMETHODISCHE ERKENNTNISSE:\")\n",
    "print(f\"   • Embedding-Qualität entscheidend für Vector Retrieval\")\n",
    "print(f\"   • Graph-Modellierung braucht domänenspezifische Anpassung\")\n",
    "print(f\"   • Chunk-Strategie (Frage+Antwort) funktioniert gut\")"
   ],
   "id": "ebc25b4124f6bc7f",
   "outputs": [
    {
     "name": "stdout",
     "output_type": "stream",
     "text": [
      "LESSONS LEARNED\n",
      "=========================\n",
      "\n",
      "WAS GUT FUNKTIONIERT HAT:\n",
      "   • Vector Retrieval überzeugt mit 0.137 BLEU Score\n",
      "   • FAISS + Sentence Transformers funktioniert zuverlässig\n",
      "   • RAG verbessert Antwortqualität um 3966.5%\n",
      "   • External Knowledge Integration funktioniert\n",
      "   • Vector Retrieval sehr zuverlässig (100.0% Success Rate)\n",
      "\n",
      "HERAUSFORDERUNGEN:\n",
      "   • Entity Extraction für Graph könnte verbessert werden\n",
      "   • Kleine Datenmenge (15 Docs) limitiert komplexe Analysen\n",
      "   • Graph Retrieval weniger robust als Vector Retrieval\n",
      "\n",
      "TECHNISCHE ERKENNTNISSE:\n",
      "   • GPT-4.1-nano ausreichend für FAQ-Antworten\n",
      "   • BLEU/ROUGE Metriken bieten gute Baseline-Bewertung\n",
      "   • LangChain Framework vereinfacht Pipeline-Entwicklung\n",
      "\n",
      "METHODISCHE ERKENNTNISSE:\n",
      "   • Embedding-Qualität entscheidend für Vector Retrieval\n",
      "   • Graph-Modellierung braucht domänenspezifische Anpassung\n",
      "   • Chunk-Strategie (Frage+Antwort) funktioniert gut\n"
     ]
    }
   ],
   "execution_count": 18
  },
  {
   "metadata": {},
   "cell_type": "markdown",
   "source": [
    "## Empfehlungen für Hauptprojekt"
   ],
   "id": "c4bc3bbe9c842016"
  },
  {
   "metadata": {
    "ExecuteTime": {
     "end_time": "2025-08-13T13:57:18.694888Z",
     "start_time": "2025-08-13T13:57:18.688825Z"
    }
   },
   "cell_type": "code",
   "source": [
    "print(\"EMPFEHLUNGEN FÜR HAUPTPROJEKT\")\n",
    "print(\"=\" * 40)\n",
    "\n",
    "print(f\"\\nTECHNISCHE VERBESSERUNGEN:\")\n",
    "print(f\"   • Größeren Korpus verwenden (100+ Dokumente)\")\n",
    "print(f\"   • Hybrid Retrieval implementieren (Vector + Graph)\")\n",
    "print(f\"   • Re-ranking Pipeline hinzufügen\")\n",
    "print(f\"   • Multiple Embedding-Modelle testen\")\n",
    "\n",
    "print(f\"\\nEVALUATION ERWEITERN:\")\n",
    "print(f\"   • GPT-as-a-Judge für qualitative Bewertung\")\n",
    "print(f\"   • Faithfulness und Answer Relevancy Metriken\")\n",
    "print(f\"   • Human Evaluation für Ground Truth\")\n",
    "print(f\"   • A/B Testing mit verschiedenen Parametern\")\n",
    "\n",
    "print(f\"\\nARCHITEKTUR VERBESSERUNGEN:\")\n",
    "print(f\"   • Modulare Pipeline-Komponenten\")\n",
    "print(f\"   • Konfigurationsbasierte Experimente\")\n",
    "print(f\"   • Automatisiertes Logging und Monitoring\")\n",
    "print(f\"   • Docker-basiertes Setup für Reproduzierbarkeit\")\n",
    "\n",
    "print(f\"\\nEXPERIMENTELLE ERWEITERUNGEN:\")\n",
    "print(f\"   • Verschiedene Chunk-Strategien vergleichen\")\n",
    "print(f\"   • Domain-spezifische Fine-tuning testen\")\n",
    "print(f\"   • Multi-modal RAG (Text + Bilder)\")\n",
    "print(f\"   • Real-time vs Batch Processing vergleichen\")\n",
    "\n",
    "print(f\"\\nANWENDUNGSFÄLLE:\")\n",
    "if vector_avg > graph_avg:\n",
    "    print(f\"   • Vector Retrieval für semantische Ähnlichkeitssuche\")\n",
    "    print(f\"   • Graph Retrieval für komplexe Beziehungsabfragen\")\n",
    "else:\n",
    "    print(f\"   • Graph Retrieval für strukturierte Wissensbereiche\")\n",
    "    print(f\"   • Vector Retrieval als schnelle Fallback-Option\")\n",
    "\n",
    "print(f\"   • Hybrid-Ansatz für beste Performance\")"
   ],
   "id": "53663cbbdba043b8",
   "outputs": [
    {
     "name": "stdout",
     "output_type": "stream",
     "text": [
      "EMPFEHLUNGEN FÜR HAUPTPROJEKT\n",
      "========================================\n",
      "\n",
      "TECHNISCHE VERBESSERUNGEN:\n",
      "   • Größeren Korpus verwenden (100+ Dokumente)\n",
      "   • Hybrid Retrieval implementieren (Vector + Graph)\n",
      "   • Re-ranking Pipeline hinzufügen\n",
      "   • Multiple Embedding-Modelle testen\n",
      "\n",
      "EVALUATION ERWEITERN:\n",
      "   • GPT-as-a-Judge für qualitative Bewertung\n",
      "   • Faithfulness und Answer Relevancy Metriken\n",
      "   • Human Evaluation für Ground Truth\n",
      "   • A/B Testing mit verschiedenen Parametern\n",
      "\n",
      "ARCHITEKTUR VERBESSERUNGEN:\n",
      "   • Modulare Pipeline-Komponenten\n",
      "   • Konfigurationsbasierte Experimente\n",
      "   • Automatisiertes Logging und Monitoring\n",
      "   • Docker-basiertes Setup für Reproduzierbarkeit\n",
      "\n",
      "EXPERIMENTELLE ERWEITERUNGEN:\n",
      "   • Verschiedene Chunk-Strategien vergleichen\n",
      "   • Domain-spezifische Fine-tuning testen\n",
      "   • Multi-modal RAG (Text + Bilder)\n",
      "   • Real-time vs Batch Processing vergleichen\n",
      "\n",
      "ANWENDUNGSFÄLLE:\n",
      "   • Vector Retrieval für semantische Ähnlichkeitssuche\n",
      "   • Graph Retrieval für komplexe Beziehungsabfragen\n",
      "   • Hybrid-Ansatz für beste Performance\n"
     ]
    }
   ],
   "execution_count": 19
  },
  {
   "metadata": {},
   "cell_type": "markdown",
   "source": [
    "## Finale Visualisierung"
   ],
   "id": "8681b1efea439444"
  },
  {
   "metadata": {
    "ExecuteTime": {
     "end_time": "2025-08-13T13:57:19.833325Z",
     "start_time": "2025-08-13T13:57:18.728554Z"
    }
   },
   "cell_type": "code",
   "source": [
    "# Finale Summary-Visualisierung\n",
    "fig, axes = plt.subplots(2, 2, figsize=(16, 12))\n",
    "fig.suptitle('RAG-Benchmarking Grundprojekt - Finale Ergebnisse', fontsize=16, fontweight='bold')\n",
    "\n",
    "# 1. BLEU Scores Vergleich\n",
    "methods = evaluation_summary['method']\n",
    "bleu_scores = evaluation_summary['bleu_score']\n",
    "colors = ['#3498db', '#e74c3c', '#2ecc71']\n",
    "\n",
    "bars1 = axes[0,0].bar(methods, bleu_scores, color=colors)\n",
    "axes[0,0].set_title('BLEU Scores nach Methode', fontweight='bold')\n",
    "axes[0,0].set_ylabel('BLEU Score')\n",
    "axes[0,0].set_ylim(0, max(bleu_scores) * 1.1)\n",
    "\n",
    "# Werte auf Balken anzeigen\n",
    "for bar, score in zip(bars1, bleu_scores):\n",
    "    axes[0,0].text(bar.get_x() + bar.get_width()/2, bar.get_height() + 0.01,\n",
    "                   f'{score:.3f}', ha='center', va='bottom', fontweight='bold')\n",
    "\n",
    "# 2. Performance nach Schwierigkeit (Heatmap)\n",
    "if len(difficulty_bleu) > 0:\n",
    "    sns.heatmap(difficulty_bleu, annot=True, fmt='.3f', cmap='RdYlBu_r',\n",
    "                ax=axes[0,1], cbar_kws={'label': 'BLEU Score'})\n",
    "    axes[0,1].set_title('BLEU Scores: Schwierigkeit vs Methode', fontweight='bold')\n",
    "\n",
    "# 3. Response Time Vergleich\n",
    "response_times = evaluation_summary['avg_response_time']\n",
    "bars2 = axes[1,0].bar(methods, response_times, color=colors)\n",
    "axes[1,0].set_title('Durchschnittliche Antwortzeit', fontweight='bold')\n",
    "axes[1,0].set_ylabel('Zeit (Sekunden)')\n",
    "\n",
    "for bar, time_val in zip(bars2, response_times):\n",
    "    axes[1,0].text(bar.get_x() + bar.get_width()/2, bar.get_height() + 0.01,\n",
    "                   f'{time_val:.3f}s', ha='center', va='bottom', fontweight='bold')\n",
    "\n",
    "# 4. Success Rate Comparison\n",
    "success_rates = [final_metrics['vector_success_rate'], final_metrics['graph_success_rate'], 0]\n",
    "method_names = ['Vector', 'Graph', 'Baseline']\n",
    "bars3 = axes[1,1].bar(method_names, success_rates, color=colors)\n",
    "axes[1,1].set_title('Retrieval Success Rate', fontweight='bold')\n",
    "axes[1,1].set_ylabel('Success Rate')\n",
    "axes[1,1].set_ylim(0, 1)\n",
    "\n",
    "for bar, rate in zip(bars3, success_rates):\n",
    "    if rate > 0:\n",
    "        axes[1,1].text(bar.get_x() + bar.get_width()/2, bar.get_height() + 0.02,\n",
    "                       f'{rate:.1%}', ha='center', va='bottom', fontweight='bold')\n",
    "\n",
    "plt.tight_layout()\n",
    "plt.savefig('../results/final_summary_plots.png', dpi=300, bbox_inches='tight')\n",
    "plt.show()\n",
    "\n",
    "print(\"Finale Visualisierung erstellt und gespeichert\")"
   ],
   "id": "977c4fe36263ee8b",
   "outputs": [
    {
     "data": {
      "text/plain": [
       "<Figure size 1600x1200 with 5 Axes>"
      ],
      "image/png": "[encoded data removed]"
     },
     "metadata": {},
     "output_type": "display_data"
    },
    {
     "name": "stdout",
     "output_type": "stream",
     "text": [
      "Finale Visualisierung erstellt und gespeichert\n"
     ]
    }
   ],
   "execution_count": 20
  },
  {
   "metadata": {},
   "cell_type": "markdown",
   "source": [
    "## Projektabschluss und Report"
   ],
   "id": "e5085edadc10cd8d"
  },
  {
   "metadata": {
    "ExecuteTime": {
     "end_time": "2025-08-13T13:57:19.879292Z",
     "start_time": "2025-08-13T13:57:19.870845Z"
    }
   },
   "cell_type": "code",
   "source": [
    "# Finaler Report für Kolloquium\n",
    "report_data = {\n",
    "    'project_title': 'Benchmarking von Retrievalmethoden in RAG-Systemen',\n",
    "    'subtitle': 'Ein Vergleich zwischen Vektor- und Graph-basiertem Zugriff auf Domänenwissen',\n",
    "    'duration': '2 Tage',\n",
    "    'completion_date': datetime.now().strftime('%Y-%m-%d %H:%M:%S'),\n",
    "    'methods_tested': len(final_metrics['methods_compared']),\n",
    "    'questions_evaluated': len(test_questions),\n",
    "    'documents_used': len(faq_documents),\n",
    "    'best_method': final_metrics['best_overall_method'],\n",
    "    'best_bleu_score': float(evaluation_summary['bleu_score'].max()),\n",
    "    'performance_improvement': f\"{((max(vector_avg, graph_avg)/baseline_avg-1)*100):.1f}%\",\n",
    "    'notebooks_created': 6,\n",
    "    'files_generated': len(list(Path('../results').glob('*'))),\n",
    "    'key_insights': [\n",
    "        f\"{final_metrics['best_overall_method'].title()} Retrieval zeigt beste Performance\",\n",
    "        f\"RAG verbessert Antwortqualität um {((max(vector_avg, graph_avg)/baseline_avg-1)*100):.1f}%\",\n",
    "        \"FAISS + Sentence Transformers robuste Kombination\",\n",
    "        \"Knowledge Graph braucht domänenspezifische Optimierung\"\n",
    "    ],\n",
    "    'next_steps': [\n",
    "        \"Hauptprojekt: Modulare Experimentierumgebung entwickeln\",\n",
    "        \"Hybrid Retrieval implementieren\",\n",
    "        \"Größeren Korpus verwenden\",\n",
    "        \"GPT-as-a-Judge Integration\"\n",
    "    ]\n",
    "}\n",
    "\n",
    "# Report speichern\n",
    "with open('../results/project_report.json', 'w', encoding='utf-8') as f:\n",
    "    json.dump(report_data, f, ensure_ascii=False, indent=2)\n",
    "\n",
    "print(\"PROJEKTABSCHLUSS REPORT\")\n",
    "print(\"=\" * 35)\n",
    "print(f\"Titel: {report_data['project_title']}\")\n",
    "print(f\"Dauer: {report_data['duration']}\")\n",
    "print(f\"Abgeschlossen: {report_data['completion_date']}\")\n",
    "print(f\"\\nZAHLEN:\")\n",
    "print(f\"   • {report_data['methods_tested']} Methoden getestet\")\n",
    "print(f\"   • {report_data['questions_evaluated']} Fragen evaluiert\")\n",
    "print(f\"   • {report_data['documents_used']} Dokumente verwendet\")\n",
    "print(f\"   • {report_data['notebooks_created']} Notebooks erstellt\")\n",
    "print(f\"   • {report_data['files_generated']} Ausgabedateien generiert\")\n",
    "\n",
    "print(f\"\\nERGEBNISSE:\")\n",
    "print(f\"   • Beste Methode: {report_data['best_method'].title()}\")\n",
    "print(f\"   • Bester BLEU Score: {report_data['best_bleu_score']:.3f}\")\n",
    "print(f\"   • Performance-Verbesserung: {report_data['performance_improvement']}\")\n",
    "\n",
    "print(f\"\\nWICHTIGSTE ERKENNTNISSE:\")\n",
    "for insight in report_data['key_insights']:\n",
    "    print(f\"   • {insight}\")\n",
    "\n",
    "print(f\"\\nNÄCHSTE SCHRITTE:\")\n",
    "for step in report_data['next_steps']:\n",
    "    print(f\"   • {step}\")"
   ],
   "id": "b5683e108ca2a9ce",
   "outputs": [
    {
     "name": "stdout",
     "output_type": "stream",
     "text": [
      "PROJEKTABSCHLUSS REPORT\n",
      "===================================\n",
      "Titel: Benchmarking von Retrievalmethoden in RAG-Systemen\n",
      "Dauer: 2 Tage\n",
      "Abgeschlossen: 2025-08-13 15:57:19\n",
      "\n",
      "ZAHLEN:\n",
      "   • 3 Methoden getestet\n",
      "   • 12 Fragen evaluiert\n",
      "   • 15 Dokumente verwendet\n",
      "   • 6 Notebooks erstellt\n",
      "   • 14 Ausgabedateien generiert\n",
      "\n",
      "ERGEBNISSE:\n",
      "   • Beste Methode: Vector\n",
      "   • Bester BLEU Score: 0.137\n",
      "   • Performance-Verbesserung: 3966.5%\n",
      "\n",
      "WICHTIGSTE ERKENNTNISSE:\n",
      "   • Vector Retrieval zeigt beste Performance\n",
      "   • RAG verbessert Antwortqualität um 3966.5%\n",
      "   • FAISS + Sentence Transformers robuste Kombination\n",
      "   • Knowledge Graph braucht domänenspezifische Optimierung\n",
      "\n",
      "NÄCHSTE SCHRITTE:\n",
      "   • Hauptprojekt: Modulare Experimentierumgebung entwickeln\n",
      "   • Hybrid Retrieval implementieren\n",
      "   • Größeren Korpus verwenden\n",
      "   • GPT-as-a-Judge Integration\n"
     ]
    }
   ],
   "execution_count": 21
  },
  {
   "metadata": {
    "ExecuteTime": {
     "end_time": "2025-08-13T13:57:19.920198Z",
     "start_time": "2025-08-13T13:57:19.915031Z"
    }
   },
   "cell_type": "code",
   "source": [
    "print(\"\\n\" + \"=\" * 80)\n",
    "print(\"GRUNDPROJEKT ERFOLGREICH ABGESCHLOSSEN!\")\n",
    "print(\"=\" * 80)\n",
    "\n",
    "print(f\"\\nERSTELLTE NOTEBOOKS:\")\n",
    "notebooks = [\n",
    "    \"01_setup_and_data.ipynb - Datenaufbereitung\",\n",
    "    \"02_vector_retrieval.ipynb - FAISS Vector Retrieval\",\n",
    "    \"03_graph_retrieval.ipynb - Neo4j Graph Retrieval\",\n",
    "    \"04_llm_integration.ipynb - LLM Integration & RAG\",\n",
    "    \"05_evaluation.ipynb - BLEU/ROUGE Evaluation\",\n",
    "    \"06_summary.ipynb - Zusammenfassung & Report\"\n",
    "]\n",
    "\n",
    "for i, notebook in enumerate(notebooks, 1):\n",
    "    print(f\"   {i}. {notebook}\")\n",
    "\n",
    "print(f\"\\nAUSGABEDATEIEN:\")\n",
    "output_files = [\n",
    "    \"faq_korpus.json - FAQ-Dokumente\",\n",
    "    \"fragenliste.csv - Testfragen\",\n",
    "    \"*_retrieval_results.csv - Retrieval Ergebnisse\",\n",
    "    \"rag_pipeline_results.csv - LLM Antworten\",\n",
    "    \"bleu_scores.csv / rouge_scores.csv - Evaluation\",\n",
    "    \"evaluation_summary.csv - Finale Metriken\",\n",
    "    \"*.png - Visualisierungen\",\n",
    "    \"project_report.json - Projektreport\"\n",
    "]\n",
    "\n",
    "for file in output_files:\n",
    "    print(f\"   • {file}\")\n",
    "\n",
    "print(f\"\\nKOLLOQUIUM VORBEREITET:\")\n",
    "print(f\"   Alle Experimente dokumentiert\")\n",
    "print(f\"   Vergleichende Evaluation durchgeführt\")\n",
    "print(f\"   Visualisierungen erstellt\")\n",
    "print(f\"   Lessons Learned dokumentiert\")\n",
    "print(f\"   Ausblick auf Hauptprojekt formuliert\")\n",
    "\n",
    "print(\"=\" * 80)"
   ],
   "id": "7754d929872b7786",
   "outputs": [
    {
     "name": "stdout",
     "output_type": "stream",
     "text": [
      "\n",
      "================================================================================\n",
      "GRUNDPROJEKT ERFOLGREICH ABGESCHLOSSEN!\n",
      "================================================================================\n",
      "\n",
      "ERSTELLTE NOTEBOOKS:\n",
      "   1. 01_setup_and_data.ipynb - Datenaufbereitung\n",
      "   2. 02_vector_retrieval.ipynb - FAISS Vector Retrieval\n",
      "   3. 03_graph_retrieval.ipynb - Neo4j Graph Retrieval\n",
      "   4. 04_llm_integration.ipynb - LLM Integration & RAG\n",
      "   5. 05_evaluation.ipynb - BLEU/ROUGE Evaluation\n",
      "   6. 06_summary.ipynb - Zusammenfassung & Report\n",
      "\n",
      "AUSGABEDATEIEN:\n",
      "   • faq_korpus.json - FAQ-Dokumente\n",
      "   • fragenliste.csv - Testfragen\n",
      "   • *_retrieval_results.csv - Retrieval Ergebnisse\n",
      "   • rag_pipeline_results.csv - LLM Antworten\n",
      "   • bleu_scores.csv / rouge_scores.csv - Evaluation\n",
      "   • evaluation_summary.csv - Finale Metriken\n",
      "   • *.png - Visualisierungen\n",
      "   • project_report.json - Projektreport\n",
      "\n",
      "KOLLOQUIUM VORBEREITET:\n",
      "   Alle Experimente dokumentiert\n",
      "   Vergleichende Evaluation durchgeführt\n",
      "   Visualisierungen erstellt\n",
      "   Lessons Learned dokumentiert\n",
      "   Ausblick auf Hauptprojekt formuliert\n",
      "\n",
      "================================================================================\n"
     ]
    }
   ],
   "execution_count": 22
  }
 ],
 "metadata": {
  "kernelspec": {
   "display_name": "Python 3",
   "language": "python",
   "name": "python3"
  },
  "language_info": {
   "codemirror_mode": {
    "name": "ipython",
    "version": 2
   },
   "file_extension": ".py",
   "mimetype": "text/x-python",
   "name": "python",
   "nbconvert_exporter": "python",
   "pygments_lexer": "ipython2",
   "version": "2.7.6"
  }
 },
 "nbformat": 4,
 "nbformat_minor": 5
}
